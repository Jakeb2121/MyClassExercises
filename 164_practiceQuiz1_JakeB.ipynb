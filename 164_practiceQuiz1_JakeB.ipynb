{
  "nbformat": 4,
  "nbformat_minor": 0,
  "metadata": {
    "colab": {
      "provenance": [],
      "authorship_tag": "ABX9TyM9AlrxcE0cFzQD+FbBfoAv",
      "include_colab_link": true
    },
    "kernelspec": {
      "name": "python3",
      "display_name": "Python 3"
    },
    "language_info": {
      "name": "python"
    }
  },
  "cells": [
    {
      "cell_type": "markdown",
      "metadata": {
        "id": "view-in-github",
        "colab_type": "text"
      },
      "source": [
        "<a href=\"https://colab.research.google.com/github/Jakeb2121/MyClassExercises/blob/main/164_practiceQuiz1_JakeB.ipynb\" target=\"_parent\"><img src=\"https://colab.research.google.com/assets/colab-badge.svg\" alt=\"Open In Colab\"/></a>"
      ]
    },
    {
      "cell_type": "code",
      "execution_count": 5,
      "metadata": {
        "colab": {
          "base_uri": "https://localhost:8080/"
        },
        "id": "nQnMTct1QTY5",
        "outputId": "5462a6bc-39d4-4238-8774-aaaeab6e6acb"
      },
      "outputs": [
        {
          "output_type": "stream",
          "name": "stdout",
          "text": [
            "Jake\n",
            "Jake:Welcome\n"
          ]
        }
      ],
      "source": [
        "#print(jake, end = '') Does not create a new linem what ever you type after end will keep it on the same line.\n",
        "#print(\":Welcome\")\n",
        "#Grant:Welcome\n",
        "\n",
        "#print(your name)\n",
        "#print(':Welcome')\n",
        "# Jake\n",
        "# :Welcome\n",
        "\n",
        "yourName=input()\n",
        "print(yourName, end=\"\")\n",
        "print (':Welcome')"
      ]
    },
    {
      "cell_type": "code",
      "source": [
        "yourName=input()\n",
        "print(yourName)\n",
        "print (\":Welcome\")"
      ],
      "metadata": {
        "colab": {
          "base_uri": "https://localhost:8080/"
        },
        "id": "a7a6NxThR9cH",
        "outputId": "b7c99b7c-a48c-4ce1-d60f-2a9cf68216e6"
      },
      "execution_count": 8,
      "outputs": [
        {
          "output_type": "stream",
          "name": "stdout",
          "text": [
            "Jake\n",
            "Jake\n",
            ":Welcome\n"
          ]
        }
      ]
    },
    {
      "cell_type": "code",
      "source": [
        "print('hello\\n world')"
      ],
      "metadata": {
        "colab": {
          "base_uri": "https://localhost:8080/"
        },
        "id": "On58r_XSSNxR",
        "outputId": "07320114-8450-42ed-d978-2a8c663df753"
      },
      "execution_count": 10,
      "outputs": [
        {
          "output_type": "stream",
          "name": "stdout",
          "text": [
            "hello\n",
            " world\n"
          ]
        }
      ]
    },
    {
      "cell_type": "code",
      "source": [],
      "metadata": {
        "id": "xDUrlDgHaTNZ"
      },
      "execution_count": null,
      "outputs": []
    },
    {
      "cell_type": "code",
      "source": [
        "#question 1\n",
        "#input\n",
        "width=float(input('provide the width of the rectangle:'))\n",
        "length=float(input('provide the height of the rectangle:'))\n",
        "\n",
        "#calcucations\n",
        "perimeter= 2*(width + length)\n",
        "area= width*length\n",
        "\n",
        "print('the area of the rectangle with width', width, 'and length' , length, 'is', area)\n",
        "print('the perimeter of the rectangle with width', width, 'and length' , length, 'is', perimeter)\n",
        "\n"
      ],
      "metadata": {
        "colab": {
          "base_uri": "https://localhost:8080/"
        },
        "id": "A9jm706gTmtS",
        "outputId": "a1eeac36-39a2-4645-8d12-5d87c3bb6d90"
      },
      "execution_count": null,
      "outputs": [
        {
          "output_type": "stream",
          "name": "stdout",
          "text": [
            "provide the width of the rectangle:1.4\n",
            "provide the height of the rectangle:5.6\n",
            "the area of the rectangle with width 1.4 and length 5.6 is 7.839999999999999\n",
            "the perimeter of the rectangle with width 1.4 and length 5.6 is 14.0\n"
          ]
        }
      ]
    },
    {
      "cell_type": "code",
      "source": [
        "#question 2\n",
        "weight=float(input('provide the weight in lbs:'))\n",
        "height=float(input('provide the height in inches:'))\n",
        "\n",
        "BMI=weight/(height**2)*703\n",
        "\n",
        "print('my BMI is', BMI)\n",
        "\n",
        "print('the BMI of you with weight {:.1f} and height {:.2f} is {:.3f} \\n'.format (weight, height, BMI))"
      ],
      "metadata": {
        "colab": {
          "base_uri": "https://localhost:8080/"
        },
        "id": "-JR9Zlz3aXXA",
        "outputId": "edc4e8ed-99cd-4ea7-cbe8-b04b787c2fbf"
      },
      "execution_count": 41,
      "outputs": [
        {
          "output_type": "stream",
          "name": "stdout",
          "text": [
            "provide the weight in lbs:165\n",
            "provide the height in inches:71\n",
            "my BMI is 23.01031541360841\n",
            "the BMI of you with weight 165.0 and height 71.00 is 23.010 \n",
            "\n"
          ]
        }
      ]
    }
  ]
}