{
  "nbformat": 4,
  "nbformat_minor": 0,
  "metadata": {
    "colab": {
      "name": "OpenWeatherAPIPractice_ Jakeb",
      "provenance": [],
      "authorship_tag": "ABX9TyO/KW8R3uUYlkFbb+7QdMPv",
      "include_colab_link": true
    },
    "kernelspec": {
      "name": "python3",
      "display_name": "Python 3"
    },
    "language_info": {
      "name": "python"
    }
  },
  "cells": [
    {
      "cell_type": "markdown",
      "metadata": {
        "id": "view-in-github",
        "colab_type": "text"
      },
      "source": [
        "<a href=\"https://colab.research.google.com/github/Jakeb2121/MyClassExercises/blob/main/OpenWeatherAPIPractice__Jakeb.ipynb\" target=\"_parent\"><img src=\"https://colab.research.google.com/assets/colab-badge.svg\" alt=\"Open In Colab\"/></a>"
      ]
    },
    {
      "cell_type": "code",
      "execution_count": 1,
      "metadata": {
        "colab": {
          "base_uri": "https://localhost:8080/"
        },
        "id": "sZI-Rl9VeRQ-",
        "outputId": "6fb196c5-5d3c-47be-961b-b3a3e693465b"
      },
      "outputs": [
        {
          "output_type": "stream",
          "name": "stdout",
          "text": [
            "Looking in indexes: https://pypi.org/simple, https://us-python.pkg.dev/colab-wheels/public/simple/\n",
            "Collecting pyom\n",
            "  Downloading pyom-0.0.2.tar.gz (4.5 kB)\n",
            "Building wheels for collected packages: pyom\n",
            "  Building wheel for pyom (setup.py) ... \u001b[?25l\u001b[?25hdone\n",
            "  Created wheel for pyom: filename=pyom-0.0.2-py3-none-any.whl size=7017 sha256=2edb214792f395eb0c578506d971806b76c26d1dfb42f36a0de52ba7baffade3\n",
            "  Stored in directory: /root/.cache/pip/wheels/25/86/ea/ab7bf7f95b5d14552825be322e3d44218aac690242484863cf\n",
            "Successfully built pyom\n",
            "Installing collected packages: pyom\n",
            "Successfully installed pyom-0.0.2\n"
          ]
        }
      ],
      "source": [
        "!pip install pyom"
      ]
    }
  ]
}